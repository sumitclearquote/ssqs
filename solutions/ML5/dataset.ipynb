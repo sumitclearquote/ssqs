{
 "cells": [
  {
   "cell_type": "code",
   "execution_count": 1,
   "metadata": {},
   "outputs": [],
   "source": [
    "import sys\n",
    "sys.path.append(\"..\")\n",
    "from utils.data_utils import *"
   ]
  },
  {
   "cell_type": "code",
   "execution_count": null,
   "metadata": {},
   "outputs": [],
   "source": [
    "annot_file = read_json(\"wheelrim_testing/via_region_data.json\")\n",
    "\n",
    "for imgname, annot in annot_file.items():\n",
    "    if imgname != \"frame_3110.jpg\":continue\n",
    "    imgpath = f\"wheelrim_testing/{imgname}\"\n",
    "    img = read_img(imgpath)\n",
    "    for region in annot['regions']:\n",
    "        coords, identity = get_coords_from_annot(region, identity_name='image_type')\n",
    "        bbox = get_bbox_from_polycoords(coords)\n",
    "        x1,y1,x2,y2 = bbox\n",
    "        \n",
    "        cropped_img = img[y1:y2, x1:x2]\n",
    "        \n",
    "    Image.fromarray(cropped_img).save(\"wheelrim_testing/cropped_wheelrim.png\")"
   ]
  },
  {
   "cell_type": "code",
   "execution_count": 16,
   "metadata": {},
   "outputs": [],
   "source": [
    "# Testing lifting pads annots\n",
    "annot_file = read_json(\"liftingpads_testing/via_region_data.json\")\n",
    "\n",
    "for imgname, annot in annot_file.items():\n",
    "    if imgname != \"frame_400.jpg\":continue\n",
    "    \n",
    "    imgpath = f\"liftingpads_testing/{imgname}\"\n",
    "    img = read_img(imgpath)\n",
    "    c = 0\n",
    "    for region in annot['regions']:\n",
    "        coords, identity = get_coords_from_annot(region, identity_name=\"image_type\")\n",
    "        \n",
    "        bbox = get_bbox_from_polycoords(coords)\n",
    "        x1,y1,x2,y2 = bbox\n",
    "        \n",
    "        cropped_img = img[y1:y2, x1:x2]\n",
    "        c += 1\n",
    "        Image.fromarray(cropped_img).save(f\"liftingpads_testing/cropped_liftingpads{c}.png\")\n",
    "     \n",
    "    \n",
    "\n",
    "\n"
   ]
  },
  {
   "cell_type": "code",
   "execution_count": 9,
   "metadata": {},
   "outputs": [],
   "source": [
    "# Correct imgname\n",
    "annot_file = read_json(\"liftingspads_testing/New json.json\")\n",
    "\n",
    "new_annot_file = {}\n",
    "for imgname, annot in annot_file.items():\n",
    "    new_imgname = f\"{imgname.split('.')[0]}.jpg\"\n",
    "    new_annot_file.update({new_imgname:annot})\n",
    "    \n",
    "    \n",
    "dump_json(new_annot_file, \"liftingspads_testing/via_region_data.json\", indent = 1)\n"
   ]
  },
  {
   "cell_type": "code",
   "execution_count": null,
   "metadata": {},
   "outputs": [],
   "source": []
  }
 ],
 "metadata": {
  "kernelspec": {
   "display_name": "ssqs",
   "language": "python",
   "name": "python3"
  },
  "language_info": {
   "codemirror_mode": {
    "name": "ipython",
    "version": 3
   },
   "file_extension": ".py",
   "mimetype": "text/x-python",
   "name": "python",
   "nbconvert_exporter": "python",
   "pygments_lexer": "ipython3",
   "version": "3.8.10"
  },
  "orig_nbformat": 4
 },
 "nbformat": 4,
 "nbformat_minor": 2
}
