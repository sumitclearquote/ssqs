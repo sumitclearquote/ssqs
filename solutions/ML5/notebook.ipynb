{
 "cells": [
  {
   "cell_type": "code",
   "execution_count": null,
   "metadata": {},
   "outputs": [],
   "source": [
    "import turicreate as tc"
   ]
  },
  {
   "cell_type": "code",
   "execution_count": null,
   "metadata": {},
   "outputs": [],
   "source": [
    "# Load the starter images\n",
    "starter_images = tc.SFrame({'image':[tc.Image('wheelrim_testing/cropped_wheelrim.png')], 'label':['wheelrim']})\n",
    "\n",
    "# Load test images\n",
    "test_images = tc.SFrame({'image':[tc.Image('wheelrim_testing/frame_11910.jpg'), \n",
    "                                  tc.Image('wheelrim_testing/frame_16180.jpg')]})\n",
    "\n",
    "\n",
    "# Create a model. This step will take a few hours on CPU and about an hour on GPU\n",
    "model = tc.one_shot_object_detector.create(starter_images, 'label')\n",
    "\n"
   ]
  }
 ],
 "metadata": {
  "kernelspec": {
   "display_name": "ssqs",
   "language": "python",
   "name": "python3"
  },
  "language_info": {
   "codemirror_mode": {
    "name": "ipython",
    "version": 3
   },
   "file_extension": ".py",
   "mimetype": "text/x-python",
   "name": "python",
   "nbconvert_exporter": "python",
   "pygments_lexer": "ipython3",
   "version": "3.8.10"
  },
  "orig_nbformat": 4
 },
 "nbformat": 4,
 "nbformat_minor": 2
}
