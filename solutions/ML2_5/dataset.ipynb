{
 "cells": [
  {
   "cell_type": "code",
   "execution_count": 1,
   "metadata": {},
   "outputs": [],
   "source": [
    "import sys\n",
    "sys.path.append(\"..\")\n",
    "from collections import Counter\n",
    "from utils.data_utils import *\n",
    "from tqdm import tqdm"
   ]
  },
  {
   "cell_type": "code",
   "execution_count": 29,
   "metadata": {},
   "outputs": [
    {
     "name": "stderr",
     "output_type": "stream",
     "text": [
      "100%|██████████| 4/4 [00:08<00:00,  2.12s/it]\n"
     ]
    },
    {
     "data": {
      "text/plain": [
       "Counter({'fender_cover': 29, 'wheelrim': 162, 'lifting_pads': 728})"
      ]
     },
     "execution_count": 29,
     "metadata": {},
     "output_type": "execute_result"
    }
   ],
   "source": [
    "data_dir = \"datasets/Project SSQS Fixed Camera/val\"\n",
    "ids = []\n",
    "\n",
    "viz_limits = {'fender_cover': 25, 'wheelrim': 25, 'lifting_pads':25}\n",
    "\n",
    "\n",
    "annot_to_visualize = \"lifting_pads\"\n",
    "padscount_with_cover = 0\n",
    "for folderid in tqdm(os.listdir(data_dir)):\n",
    "    if folderid.endswith(\"Store\"):continue\n",
    "    folder_path = f\"{data_dir}/{folderid}\"\n",
    "    \n",
    "    annot_file = read_json(f\"{folder_path}/via_region_data.json\")\n",
    "    viz_count = {'fender_cover': 0, 'wheelrim':0, 'lifting_pads': 0}\n",
    "    for imgname, annot in annot_file.items():\n",
    "        imgpath = f\"{folder_path}/{imgname}\"\n",
    "        img = read_img(imgpath)\n",
    "        current_classes = []\n",
    "        for region in annot['regions']:\n",
    "            coords, identity = get_coords_from_annot(region)\n",
    "                       \n",
    "            bbox = get_bbox_from_polycoords(coords)\n",
    "            \n",
    "            img = draw_box(img, bbox, (255,0,0))\n",
    "            img = write_text(img, identity, bbox[:2])\n",
    "        \n",
    "            current_classes.append(identity)\n",
    "\n",
    "            ids.append(identity)\n",
    "            \n",
    "        viz_dir = f\"datasets/viz_annots/all_viz\"\n",
    "        os.makedirs(viz_dir, exist_ok=True)\n",
    "        #Image.fromarray(img).save(f\"{viz_dir}/{imgname}\")\n",
    "        \n",
    "        \n",
    "Counter(ids)\n",
    "            \n",
    "            \n"
   ]
  },
  {
   "cell_type": "code",
   "execution_count": 1,
   "metadata": {},
   "outputs": [
    {
     "data": {
      "text/plain": [
       "['fender_cover', 'lifting_pads', 'wheelrim']"
      ]
     },
     "execution_count": 1,
     "metadata": {},
     "output_type": "execute_result"
    }
   ],
   "source": [
    "# train class distribution: {'wheelrim': 530, 'lifting_pads': 731, 'fender_cover': 277}\n",
    "# val class distribution: {'fender_cover': 29, 'wheelrim': 162, 'lifting_pads': 728}\n",
    "\n",
    "sorted(['fender_cover', 'wheelrim', 'lifting_pads'])"
   ]
  },
  {
   "attachments": {},
   "cell_type": "markdown",
   "metadata": {},
   "source": [
    "## Filter out lifting pads that are annotated on fender views"
   ]
  },
  {
   "cell_type": "code",
   "execution_count": 22,
   "metadata": {},
   "outputs": [
    {
     "name": "stderr",
     "output_type": "stream",
     "text": [
      "100%|██████████| 200/200 [00:02<00:00, 66.85it/s]\n",
      "100%|██████████| 200/200 [00:03<00:00, 66.37it/s]\n",
      "100%|██████████| 200/200 [00:03<00:00, 65.88it/s]\n",
      "100%|██████████| 200/200 [00:03<00:00, 65.83it/s]\n",
      "100%|██████████| 200/200 [00:02<00:00, 68.55it/s]\n",
      "100%|██████████| 200/200 [00:02<00:00, 67.69it/s]\n",
      "100%|██████████| 200/200 [00:02<00:00, 68.16it/s]\n",
      "100%|██████████| 200/200 [00:02<00:00, 67.55it/s]\n",
      "100%|██████████| 174/174 [00:02<00:00, 65.91it/s]\n",
      "100%|██████████| 200/200 [00:03<00:00, 66.49it/s]\n"
     ]
    },
    {
     "data": {
      "text/plain": [
       "217"
      ]
     },
     "execution_count": 22,
     "metadata": {},
     "output_type": "execute_result"
    }
   ],
   "source": [
    "\n",
    "both_imgpaths = [] #imgpaths where both liftingpads and fender/fendercover is present.\n",
    "\n",
    "data_dir = \"Project SSQS Fixed Camera\"\n",
    "\n",
    "\n",
    "ids = []\n",
    "c = 0\n",
    "for folderid in os.listdir(data_dir):\n",
    "    if folderid.endswith(\"Store\"):continue\n",
    "    folder_path = f\"{data_dir}/{folderid}\"\n",
    "    \n",
    "    annot_file = read_json(f\"{folder_path}/via_region_data.json\")\n",
    "    \n",
    "    for imgname, annot in tqdm(annot_file.items()):\n",
    "        imgpath = f\"{folder_path}/{imgname}\"\n",
    "        img = read_img(imgpath)\n",
    "        \n",
    "        \n",
    "        current_classes = []\n",
    "        for region in annot['regions']:\n",
    "            coords, identity = get_coords_from_annot(region)\n",
    "            current_classes.append(identity)\n",
    "            ids.append(identity)\n",
    "            bbox = get_bbox_from_polycoords(coords)\n",
    "            img = draw_box(img, bbox, (255,0,0))\n",
    "            img = write_text(img, identity, bbox[:2])\n",
    "\n",
    "    \n",
    "            \n",
    "        if ('fender_cover' in current_classes and 'lifting_pads' in current_classes):\n",
    "            #Image.fromarray(img).save(f\"viz_annots/random/{imgname}\")\n",
    "            c += 1\n",
    "            \n",
    "        #elif 'lifting_pads' in current_classes and 'wheelrim' not in current_classes:\n",
    "        #    Image.fromarray(img).save(f\"viz_annots/only_lifting_pads/{imgname}\") #front-view needs to be filtered after this step.\n",
    "        #    pass\n",
    "            \n",
    "\n",
    "\n",
    "c"
   ]
  },
  {
   "cell_type": "code",
   "execution_count": 21,
   "metadata": {},
   "outputs": [
    {
     "data": {
      "text/plain": [
       "Counter({'fender_cover': 306, 'wheelrim': 692, 'lifting_pads': 1459})"
      ]
     },
     "execution_count": 21,
     "metadata": {},
     "output_type": "execute_result"
    }
   ],
   "source": [
    "#Updated annot: {'fender_cover': 306, 'wheelrim': 692, 'lifting_pads': 1459}\n",
    "#Unfiltered annot: {'fender_cover': 306, 'wheelrim': 692, 'lifting_pads': 1867}"
   ]
  },
  {
   "cell_type": "code",
   "execution_count": 24,
   "metadata": {},
   "outputs": [
    {
     "data": {
      "text/plain": [
       "408"
      ]
     },
     "execution_count": 24,
     "metadata": {},
     "output_type": "execute_result"
    }
   ],
   "source": []
  },
  {
   "cell_type": "code",
   "execution_count": 18,
   "metadata": {},
   "outputs": [
    {
     "name": "stderr",
     "output_type": "stream",
     "text": [
      "100%|██████████| 200/200 [00:00<00:00, 8098.13it/s]\n",
      "100%|██████████| 200/200 [00:00<00:00, 6983.00it/s]\n",
      "100%|██████████| 200/200 [00:00<00:00, 6962.60it/s]\n",
      "100%|██████████| 200/200 [00:00<00:00, 4451.77it/s]\n",
      "100%|██████████| 200/200 [00:00<00:00, 10909.74it/s]\n",
      "100%|██████████| 200/200 [00:00<00:00, 8504.09it/s]\n",
      "100%|██████████| 200/200 [00:00<00:00, 8316.34it/s]\n",
      "100%|██████████| 200/200 [00:00<00:00, 7761.26it/s]\n",
      "100%|██████████| 174/174 [00:00<00:00, 3083.58it/s]\n",
      "100%|██████████| 200/200 [00:00<00:00, 3274.05it/s]\n"
     ]
    }
   ],
   "source": [
    "# Create new annotation leaving out lifting pads annotation from camera3 view\n",
    "data_dir = \"Project SSQS Fixed Camera\"\n",
    "\n",
    "c = 0\n",
    "for folderid in os.listdir(data_dir):\n",
    "    if folderid.endswith(\"Store\"):continue\n",
    "    folder_path = f\"{data_dir}/{folderid}\"\n",
    "    \n",
    "    annot_file = read_json(f\"{folder_path}/via_region_data.json\")\n",
    "    \n",
    "    for imgname, annot in tqdm(annot_file.items()):\n",
    "        new_region = []\n",
    "\n",
    "        current_classes = []\n",
    "        for region in annot['regions']:\n",
    "            coords, identity = get_coords_from_annot(region)\n",
    "            \n",
    "            #Dont add caddy-view lifting pads\n",
    "            if imgname in os.listdir(\"viz_annots/images_with_both_liftingpad_and_fender_annot\") and identity == 'lifting_pads':\n",
    "                continue\n",
    "            \n",
    "            new_region.append(region)\n",
    "            \n",
    "            \n",
    "        annot_file[imgname]['regions'] = new_region\n",
    "        \n",
    "        \n",
    "        \n",
    "    #dump_json(annot_file, f\"{folder_path}/via_region_data2.json\", indent = 1)"
   ]
  },
  {
   "cell_type": "code",
   "execution_count": 26,
   "metadata": {},
   "outputs": [],
   "source": [
    "# Delete via_region_data and rename via_region_data2 to via_region_data\n",
    "data_dir = \"Project SSQS Fixed Camera\"\n",
    "\n",
    "c = 0\n",
    "for folderid in os.listdir(data_dir):\n",
    "    if folderid.endswith(\"Store\"):continue\n",
    "    folder_path = f\"{data_dir}/{folderid}\"\n",
    "    #os.rename(f\"{folder_path}/via_region_data.json\", f\"{folder_path}/via_region_data_old.json\")\n",
    "    os.rename(f\"{folder_path}/via_region_data2.json\", f\"{folder_path}/via_region_data.json\")"
   ]
  },
  {
   "cell_type": "code",
   "execution_count": null,
   "metadata": {},
   "outputs": [],
   "source": []
  }
 ],
 "metadata": {
  "kernelspec": {
   "display_name": "ssqs",
   "language": "python",
   "name": "python3"
  },
  "language_info": {
   "codemirror_mode": {
    "name": "ipython",
    "version": 3
   },
   "file_extension": ".py",
   "mimetype": "text/x-python",
   "name": "python",
   "nbconvert_exporter": "python",
   "pygments_lexer": "ipython3",
   "version": "3.8.10"
  },
  "orig_nbformat": 4
 },
 "nbformat": 4,
 "nbformat_minor": 2
}
