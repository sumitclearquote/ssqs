{
 "cells": [
  {
   "cell_type": "code",
   "execution_count": 4,
   "metadata": {},
   "outputs": [],
   "source": [
    "import lmdb\n",
    "import io\n",
    "from PIL import Image\n",
    "import cv2\n",
    "from imutils.video import FileVideoStream\n",
    "from imutils.video import FPS, count_frames\n",
    "import numpy as np\n",
    "import imutils\n",
    "import time"
   ]
  },
  {
   "cell_type": "code",
   "execution_count": 5,
   "metadata": {},
   "outputs": [
    {
     "name": "stdout",
     "output_type": "stream",
     "text": [
      "b'P01_01_frame_0000000025.jpg'\n",
      "b'\\x00\\x00\\x00\\x00\\xb3\\x8d\\xa7?\\x00\\x00\\x00\\x00\\xc2!;@\\x00\\x00\\x00\\x00\\x00\\x00\\x00\\x00\\x00\\x00\\x00\\x00\\xe1\\xd2\\xd7=k\\x1b>>\\xb6\\xe7\\xc6@\\x00\\x00\\x00\\x00\\x00\\x00\\x00\\x00kx\\xf6:\\xb1\\xb7r?\\x00\\x00\\x00\\x00\\xcf\\'\\x10?\\x00\\x00\\x00\\x00\\xf7=E==\\x00\\xf79\\x00\\x00\\x00\\x00\\xe58\\x8e<\\x00\\x00\\x00\\x00\\xc5 b=9\\x1f\\xf5@\\x00\\x00\\x00\\x00\\xfd.\\x9c>\\xac\\xcc\\x06>\\x00\\x00\\x00\\x00\\tf\\xd3@\\xe2\\xdb\\x1cA\\xd8?\\x01?\\x91\\xfb\\x9c;\\x00\\x00\\x00\\x00\\x00\\x00\\x00\\x00\\x00\\x00\\x00\\x00\\x00\\x00\\x00\\x00\\x00\\x00\\x00\\x00|i\\x8f;\\x00\\x00\\x00\\x00\\x00\\x00\\x00\\x00\\x00\\x00\\x00\\x00\\x00\\x00\\x00\\x00\\x00\\x00\\x00\\x00\\x00\\x00\\x00\\x00j(\\xb9>\\x08\\x17\\xf2=\\x0e\\x9d\\x82?\\x00\\x00\\x00\\x00{k^?\\x97\\t\\x8f@\\x00\\x00\\x00\\x00Mz\\x1a=[6\\x9f@\\x9f\\x85g;\\x00\\x00\\x00\\x00\\x00\\x00\\x00\\x00\\x00\\x00\\x00\\x00\\x00\\x00\\x00\\x00\\x1d\\x80\\x9f>\\x00\\x00\\x00\\x00\\x00\\x00\\x00\\x00D\\xb7\\nA\\xc9&\\xbd>\\xc9a\\x96>\\xd1\\x91\\x03<\\xb8\\xb5*;\\x00\\x00\\x00\\x00\\x1d \\x05A\\x1a\\xeaW@J\\xfb\\x83?\\x00\\x00\\x00\\x00\\x00\\x00\\x00\\x00\\x00\\x00\\x00\\x00J\\x8dp@\\x83\\xcf\\x8d;\\x00\\x00\\x00\\x00\\xa5r\\xdf>\\xbd\\xf4\\xd1@\\x00\\x00\\x00\\x00\\x00\\x00\\x00\\x00\\x00\\x00\\x00\\x00\\x00\\x00\\x00\\x00`!\\xa8@\\x00\\x00\\x00\\x00\\x00\\x00\\x00\\x00\\x82\\x06\\xaf;\\x00\\x00\\x00\\x00\\x00\\x00\\x00\\x00\\x00\\x00\\x00\\x00\\x00\\xea\\x84>K\\x99\\x1dA\\x00\\x00\\x00\\x00\\xf5\\xd1\\xbb>\\x00\\x00\\x00\\x00\\x00\\x00\\x00\\x00\\xadc\\x9a?\\x00\\x00\\x00\\x00\\x00\\x00\\x00\\x003$\\x10>\\x00\\x00\\x00\\x00\\x00\\x00\\x00\\x00\\x00\\x00\\x00\\x00\\x00\\x00\\x00\\x00\\xb0\\xa8\\x0e@Sp\\xff@\\x8a;\\xae?\\x00\\x00\\x00\\x00b\\x1d\\xc4=)\\x92\\xcb<\\x1f(\\xd3?\\x00\\x00\\x00\\x00\\x00\\x00\\x00\\x00\\xc5G\\xa7?\\x00\\x00\\x00\\x00\\x00\\x00\\x00\\x00\\x89r&@\\xb7WJ?\\x00\\x00\\x00\\x00\\x8aS\\x1e=\\x00\\x00\\x00\\x00\\x00\\x00\\x00\\x00\\x00\\x00\\x00\\x00\\x00\\x00\\x00\\x00\\xbby\\xc0>-l\\x98=\\x00\\x00\\x00\\x00/\\xee]<\\x00\\x00\\x00\\x00\\x00\\x00\\x00\\x00\\xf5[w?\\xa1\\xe5cA\\x00\\x00\\x00\\x00\\x00\\x00\\x00\\x00\\x00\\x00\\x00\\x00\\xff\\xf8\\x18>\\x00\\x00\\x00\\x00\\xa2\\x8f$=\\x00\\x00\\x00\\x00\\x00\\x00\\x00\\x00\\x10w\\x01>+\\x91 @\\xed]UA\\x00\\x00\\x00\\x00\\xca\\x0f/?\\x00\\x00\\x00\\x00\\x00\\x00\\x00\\x00_\\xccK<]\\x11`A\\x00\\x00\\x00\\x00W\\xea\\xd8>\\x00\\x00\\x00\\x00z\\xbd\\x1c@\\x00\\x00\\x00\\x00\\x00\\x00\\x00\\x00N\\xa1\\r=\\x00\\x00\\x00\\x00\\x16\\xf8\\x9c<\\x00\\x00\\x00\\x00\\x00\\x00\\x00\\x00V\\x9a\\xa3@\\x00\\x00\\x00\\x00;\\xe5c>\\xc5I\\xd3=\\xdc\\x98\\x89=\\xa7~\\xd5?\\x00\\x00\\x00\\x00\\x00\\x00\\x00\\x00\\x00\\x00\\x00\\x00\\x8fq\\xc7;\\x7f\\xf7\\x08>\\x1a\\xaa\\x86>\\x00\\x00\\x00\\x00\\x99V\\xec<\\x00\\x00\\x00\\x00\\xf9\\xae\\'=\\x8e\\x95\\xb7=\\x00\\x00\\x00\\x003m\\xbc@\\x00\\x00\\x00\\x00\\x00\\x00\\x00\\x00fx$=\\x00\\x00\\x00\\x00\\x00\\x00\\x00\\x00\\x1aTZ@\\x00\\x00\\x00\\x00\\xd3\\x00z>\\x00\\x00\\x00\\x00\\x00\\x00\\x00\\x00\\x00\\x00\\x00\\x00\\x00\\x00\\x00\\x00\\x06\\x8d\\x1b?\\x00\\x00\\x00\\x00\\x00\\x00\\x00\\x00\\x12\\xf6o?\\x00\\x00\\x00\\x00\\x02\\x9bE?\\x00\\x00\\x00\\x00>\\x06\\x1c?\\x00\\x00\\x00\\x00\\x00\\x00\\x00\\x00\\x00\\x00\\x00\\x00\\x00\\x00\\x00\\x00k\\x1f\\x1f?\\xb7Q\\x96>\\x00\\x00\\x00\\x00\\x00\\x00\\x00\\x00\\x00\\x00\\x00\\x00\\xfb\\xff3=\\xdf\\xdc\\xf2>\\x00\\x00\\x00\\x00\\x7f\\x8b0>R3Y@.\\xf6L=\\x00\\x00\\x00\\x00\\x11t\\x1bA\\xed\\x00[>\\x00\\x00\\x00\\x00\\x997\\xb2A\\x00\\x00\\x00\\x00\\x00\\x00\\x00\\x00\\x00\\x00\\x00\\x00\\x00\\x00\\x00\\x00\\x00\\x00\\x00\\x00\\x88\\xb5|=\\x00\\x00\\x00\\x00\\x00\\x00\\x00\\x00\\x08\\xdb\\xd4<\\x92\\xbdf?\\x8f\\xcb\\xf6=\\x00\\x00\\x00\\x00\\xc0\\xb9y?\\x89\\x05 >\\x00\\x00\\x00\\x00\\x00\\x00\\x00\\x00\\x00\\x00\\x00\\x00\\x00\\x00\\x00\\x00n\\xa4\\x1f<O)\\xcb@\\x00\\x00\\x00\\x00\\x00\\x00\\x00\\x00\\x00\\x00\\x00\\x00\\xcf\\x87\\xb2@\\x00\\x00\\x00\\x00\\xf5{G?\\x00\\x00\\x00\\x00\\x00\\x00\\x00\\x00k\\xc4B=\\xe6\\xe5\\x0e>\\xa6\\xccH?^2\\xb8>\\x00\\x00\\x00\\x00\\x00\\x00\\x00\\x00-\\xd1\\x1e@\\x00\\x00\\x00\\x00\\x00\\x00\\x00\\x00\\x00\\x00\\x00\\x00\\x1f\\xa0u?\\x00\\x00\\x00\\x00\\x00\\x00\\x00\\x00\\x00\\x00\\x00\\x00\\xbf\\x10\\x11A]\\xe0\\x89?\\x00\\x00\\x00\\x00\\xce(\\x91@\\x00\\x00\\x00\\x00\\x00\\x00\\x00\\x00\\x00\\x00\\x00\\x00\\x00\\x00\\x00\\x00\\x010\\x07A\\x9d-\\x91>\\x00\\x00\\x00\\x00\\x00\\x00\\x00\\x00\\x00\\x00\\x00\\x00\\x00\\x00\\x00\\x00\\x00\\x00\\x00\\x00\\x02\\xf8\\x18<3\\xa4,>\\x00\\x00\\x00\\x00\\x00\\x00\\x00\\x00\\xbe\\xe5\\xe5>\\x00\\x00\\x00\\x00q\\x8c\\x15>\\x12\\x90}>6\\x10\\xa8;w\\xc8\\xb4>\\x82y\\x03=\\xbf\\xdf\\xe0?\\x00\\x00\\x00\\x00\\x00\\x00\\x00\\x00\\xe0\\xa8\\xc5=\\x08x\\x7fA?\\xbf\\\\<\\x00\\x00\\x00\\x00\\x00\\x00\\x00\\x00\\xa6w\\xfe=N@\\x95;\\x00\\x00\\x00\\x00\\x02\\xc6\\x97>\\x00\\x00\\x00\\x00\\x00\\x00\\x00\\x00~\\r\\x19>\\x00\\x00\\x00\\x00\\x00\\x00\\x00\\x00\\xc5\\xf0\\x9a?\\x00\\x00\\x00\\x00\\x00\\x00\\x00\\x00\\x00\\x00\\x00\\x00\\x00\\x00\\x00\\x00\\x08y\\xb0=\\x00\\x00\\x00\\x00\\x12\\x08\\xd9=\\x00\\x00\\x00\\x00}\\xaf\\xcb@\\xf2\\xf0^?f\\xd7\\x1c>\\x00\\x00\\x00\\x00\\x00\\x00\\x00\\x00\\'5\\xd2@WH\\x90>U\\x9e\\x02@\\xe0R\\x83?G/\\x82>\\x9a\\xdck>\\x00\\x00\\x00\\x00\\x00\\x00\\x00\\x00`\\x8f\\x05>\\x00\\x00\\x00\\x00\\xa3\\xc5D;\\xfd>%?\\x00\\x00\\x00\\x00\\x00\\x00\\x00\\x00\\x00\\x00\\x00\\x00\\x9e\\x01\\x91>\\x00\\x00\\x00\\x00\\x00\\x00\\x00\\x00\\x00\\x00\\x00\\x00\\x00\\x00\\x00\\x00\\x00\\x00\\x00\\x00\\x00\\x00\\x00\\x00\\xf7\\xa7\\x9b>\\x00\\x00\\x00\\x00\\x00\\x00\\x00\\x000\\xbe@>\\xf0+C@\\x00\\x00\\x00\\x00\\xaa\\xe2b>\\x00\\x00\\x00\\x00\\x00\\x00\\x00\\x00\\x00\\x00\\x00\\x00j\\x11\\x94?\\xf5O6?\\x93Y[?\\xe1K\\xf1>\\xdd\\xb5%?\\xae\\x9c\\x1f=\\x00\\x00\\x00\\x00\\x00\\x00\\x00\\x00\\x00\\x00\\x00\\x00\\x00\\x00\\x00\\x00\\x00\\x00\\x00\\x00\\x00\\x00\\x00\\x00\\xb1:\\x88>\\xd0\\x1d\\x00?\\x0e\\x17\\n<f\\x7fp@9G%=N\\x7ft=\\x00\\x00\\x00\\x00\\xf2\\xe9J=\\x00\\x00\\x00\\x00\\x8d\\x90\\xe3<].\\r=]\\xba\\x85=\\x00\\x00\\x00\\x00\\x00\\x00\\x00\\x00\\x00\\x00\\x00\\x00\\'\\x8f\\xb4;\\x00\\x00\\x00\\x00\\xde\\x0fQ>\\x00\\x00\\x00\\x00\\x88Z!=Q\\xf4{>\\x9e\\xad\\x0e>\\x00s\\xed>\\x00\\x00\\x00\\x00\\x82\\xc1\\xfd=\\xf1\\x9e\\xbb<\\xb0:0?+%\\x95=\\x8a\\x93&?\\x00\\x00\\x00\\x00\\xa0\\xc9\\xcc=\\x00\\x00\\x00\\x00\\x00\\x00\\x00\\x00g\\xb6\\xcc?\\xd8\\xb7\\xf6<\\xf8]\\xc3?\\x19.\\x08<\\xb8\\xca\\xad>\\x99\\x04\\x97=\\x00\\x00\\x00\\x00.\\xb2,?\\x00\\x00\\x00\\x00vmG>?s\\x12>\\x00\\x00\\x00\\x00\\x00\\x00\\x00\\x00\\xc9:C>\\x8f\\x7f)=(\\xde\\x97<\\x00\\x00\\x00\\x00\\x8do1>\\x00\\x00\\x00\\x00\\x00\\x00\\x00\\x005\\x97\\xf1=\\x1a\\xc0;=VS^>\\xee\\xbeW?\\x00\\x00\\x00\\x00+\\xc1\\xa6>\\x00\\x00\\x00\\x00.\\xb7\\xb9>+F\\xde=\\x12\\x8fy<\\x00\\x00\\x00\\x00\\xcb\\x9fX:\\xad/y<\\xb7_\\xc7<\\x00\\x00\\x00\\x00\\xeb;\\xff=Fn\\x81:\\xf2HV=\\x00\\x00\\x00\\x00\\x00\\x00\\x00\\x00U\\x12\\xe3>\\x15k\\x06=\\x00\\x00\\x00\\x00\\x00\\x00\\x00\\x00\\xc1\\x1d\\x06=\\x00\\x00\\x00\\x00\\xa9\\x00d>\\x00\\x00\\x00\\x00\\r\\x9d\\xbd=\\x00\\x00\\x00\\x00\\x00\\x00\\x00\\x007\\x81K==\\x8f\\xc9;\\x00\\x00\\x00\\x00\\x00\\x00\\x00\\x00\\x8d\\xba\\xb0>\\x00\\x00\\x00\\x00\\xb9}\\xfa>\\xf4\\x13\\x88>\\x1a,\\x85>\\x00\\x00\\x00\\x00\\x00\\x00\\x00\\x00\\x00\\x00\\x00\\x00\\xb0Z\\xfb;/\\xb3\\x00@\\xaf+$=f\\'\\xd5?\\x00\\x00\\x00\\x00\\x00\\x00\\x00\\x00\\x8f\\xb4\\xe1=\\x00\\x00\\x00\\x00\\x1a\\x10\\x0f?\\x00\\x00\\x00\\x00\\x00\\x00\\x00\\x00\\x00\\x00\\x00\\x00x\\xc9\\xf0=\\x00\\x00\\x00\\x00\\x00\\x00\\x00\\x00>\\x81\\xc1;\\xa3\\xf6\\xc1<\\x00\\x00\\x00\\x00\\x00\\x00\\x00\\x00\\x00\\x00\\x00\\x00\\x00\\x00\\x00\\x00\\xf1\\x1d\\x9d=\\x00\\x00\\x00\\x00\\x00\\x00\\x00\\x00\\x0f \\x8d@\\xb7,\\x01;\\x00\\x00\\x00\\x00G\\xa0\\xf6=U\\x8f\\xd8?\\x00\\x00\\x00\\x00qw\\xa7>2\\xaa,?\\x00\\x00\\x00\\x00\\x8e\\r3? g\\x97>\\x83O\\x16<k\\x92\\x1b>\\x00\\x00\\x00\\x00n\\xde?>\\xb1\\x14\\r<\\x7f\\xe3\\xe2<\\x00\\x00\\x00\\x00\\x00\\x00\\x00\\x00\\x00\\x00\\x00\\x00\\xaa\\x8d\\xb0<\\x00\\x00\\x00\\x00\\xf2^\\x1f>\\x00\\x00\\x00\\x00\\x00\\x00\\x00\\x00\\x8a\\x1a\\xee>\"t\\xcf=\\x00\\x00\\x00\\x00\\x00\\x00\\x00\\x00GY9=VP\\xe7>^\\x0c\\xe9?X\\xf6O>\\x00\\x00\\x00\\x00\\xc8\\x86\\x18>\\xc6\\n\\xf8=\\x1a\\t\\xe99\\xb0\\xce\\xf2>\\x00\\x00\\x00\\x00\\xb11K;\\x00\\x00\\x00\\x00u\\x18\\xa5>\\x00\\x00\\x00\\x00\\x00\\x00\\x00\\x00\\xae\\xb5\\xf9:\\xbb\\xd9\\xe2>\\x00\\x00\\x00\\x00[`\\xb6>n\\x17\\xbe>#\\x7f1>\\x11v\\x8c>k\\xe7%@\\x10\\xd1\\x17>\\x00\\x00\\x00\\x00N\\x14\\xd7>VeC>2\\xae\\x9a>\\xaeW\\x07>\\x00\\x00\\x00\\x00\\xeb\\x82\\x13?\\xf8\\x9f\\xf8=\\x00\\x00\\x00\\x00\\xa0\\x0f\\x16@\\x11\\xc0\\x81>\\x00\\x00\\x00\\x00\\xabx7:7\\x0f\\xdf>xj\\x9b:\\xcf4\\xe2<\\x00\\x00\\x00\\x00\\x00\\x00\\x00\\x00\\x00\\x00\\x00\\x00\\x00\\x00\\x00\\x00\\x00\\x00\\x00\\x00\\xad\\xba\\x86?\\x00\\x00\\x00\\x00\\n\\x1a\\xa1>\\xe9\\x89\\xdc=\\x00\\x00\\x00\\x00J\\x06\\x04>\\x00\\x00\\x00\\x00\\x00\\x00\\x00\\x00\\x00\\x00\\x00\\x00\\x00\\x00\\x00\\x00\\x00\\x00\\x00\\x00\\x0f\\x1d\\x03?\\x18\\xad!=\\x00\\x00\\x00\\x00\\x00\\x00\\x00\\x00\\x1e\\'N>&\\x1dc=Y\\xb6\\x04?&\\x17\\xd2?\\xb7A\\x9a<\\x00\\x00\\x00\\x00\\x00\\x00\\x00\\x00\\x00\\x00\\x00\\x00\\x00\\x00\\x00\\x00\\x00\\x00\\x00\\x00\\x00\\x00\\x00\\x00\\x00\\x00\\x00\\x00\\xbdl*<\\x00\\x00\\x00\\x00\\xb7\\xa6\\x1e?\\xa2P\\xb5=\\xa5\\xb6\\x8c=\\x00\\x00\\x00\\x00\\x9fuY>\\xe7\\x0b\\x1a=\\xa1\\xa6\\xe7>\\xe5\\x7f\\x1c=\\xd7\\x05\\xdd=\\x00\\x00\\x00\\x00\\x00\\x00\\x00\\x00c\\xc0|?\\x00\\x00\\x00\\x00\\xa8\\xa0\\xa4;\\x00\\x00\\x00\\x00\\x00\\x00\\x00\\x00\\x00\\x00\\x00\\x00\\x9er\\x9a>\\x00\\x00\\x00\\x00\\x00\\x00\\x00\\x00\\x00\\x00\\x00\\x00\\x00\\x00\\x00\\x00S$\\xce;\\x00\\x00\\x00\\x00\\x00\\x00\\x00\\x00\\x8a\\x868<\\x00\\x00\\x00\\x00\\x00\\x00\\x00\\x00\\xf2YQ>\\x00\\x00\\x00\\x00\\x00\\x00\\x00\\x00jS\\x01=\\x96\\xab\\x08>\\x87\\xbc\\n>\\xb2\\xf8\\xcc;\\xcb\\x97\\xf8?\\x87F\\xbd>\\x9b\\xf8\\x90=\\x00\\x00\\x00\\x00I\\xa0\\xf1=\\x00\\x00\\x00\\x00\\x00\\x00\\x00\\x00\\x86r)?\\x00\\x00\\x00\\x00NA\\x12@\\xe2}\\x8b9\\x00\\x00\\x00\\x00\\x00\\x00\\x00\\x00\\x0b\\x90\\xa8>K\\x81\\x05?\\x00\\x00\\x00\\x00\\x00\\x00\\x00\\x00\\x00\\x00\\x00\\x00\\x00\\x00\\x00\\x00\\xfd1q;\\xa5u_;\\x00\\x00\\x00\\x00\\xe9r\\x19>j-==Nk\\xf0>\\xdd{\\xb9<\\xaf\\xac\\x9d>\\x8d\\xb42;\\x96\\xd2!?Z\\x18\\xfe=q\\xb8\\xb8=\\x8a\\x02\\x91=\\xc8\\xd4F>\\xdb\\xc3\\x93>\\x00\\x00\\x00\\x00fC\\x11;)\\x0bN<\\x16:\\x9d<+\\xcd\\x1b@\\x00\\x00\\x00\\x00\\x00\\x00\\x00\\x00\\x00\\x00\\x00\\x00\\xe6\\xef_>\\x00\\x00\\x00\\x00\\x10\\n9@\\x7f\\xfcq=\\xefM\\xce>\\x00\\x00\\x00\\x00q\\x86\\x8b>\\xca-\\xb2>\\x00\\x00\\x00\\x00\\x00\\x00\\x00\\x00.\\xc9\\x94?\\x00\\x00\\x00\\x00\\x00\\x00\\x00\\x00\\x00\\x00\\x00\\x00\\xbb6\\xc4<\\x00\\x00\\x00\\x00\\x00\\x00\\x00\\x00\\x00\\x00\\x00\\x00\\x00\\x00\\x00\\x00\\x00\\x00\\x00\\x00B\\xa5\\n>\\x00\\x00\\x00\\x00\\x00\\x00\\x00\\x00\\x8f\\xf7\\x83?\\xe6\\x0b>=\\x00\\x00\\x00\\x00\\x00\\x00\\x00\\x00\\x00\\x00\\x00\\x00\\xa2\\x95a=\\x00\\x00\\x00\\x00\\xaa\\xe1\\x8a?\\x00\\x00\\x00\\x00\\x00\\x00\\x00\\x00%\\xa0%>w\\xac\\x90=\\x00\\x00\\x00\\x00\\x00\\x00\\x00\\x00\\x00\\x00\\x00\\x00%\"$>B4\\xff=\\x95!\\xcb;\\x00p0=\\x00\\x00\\x00\\x00\\x00\\x00\\x00\\x00\\x99_\\xc2<\\x00\\x00\\x00\\x00\\xe27\\xb1=\\x00\\x00\\x00\\x00\\x00\\x00\\x00\\x00\\x00\\x00\\x00\\x00{pJ>\\x89T\\xb0;\\x00\\x00\\x00\\x00\\x00\\x00\\x00\\x00\\x00\\x00\\x00\\x00\\x00\\x00\\x00\\x00\\xdb\\x1b\\x08>\\x00\\x00\\x00\\x00\\xc1\"\\xc0?\\x00\\x00\\x00\\x00-q\\xdc;\\xc1\\xb6\\xb8?s\\xbf\\xaa=\\x00\\x00\\x00\\x00\\x00\\x00\\x00\\x00\\x00\\x00\\x00\\x00\\x00\\x00\\x00\\x00\\x00\\x00\\x00\\x00\\x7f\\xd9\\x86@N\\x87o<\\x00\\x00\\x00\\x00\\x8b\\x1e\\x8a@\\x00\\x00\\x00\\x00\\xb5\\x95[>\\xe7\\x01\\xab>\\x00\\x00\\x00\\x00\\x00\\x00\\x00\\x00\\xb3\\xa8 <_eT=+\\xb9\\xd3?\\x00\\x00\\x00\\x00\\x00\\x00\\x00\\x00k\\xae\\r>c\\x9c:?*\\x0c\\xcf;nl\\xf8:\\x00\\x00\\x00\\x00\\x00\\x00\\x00\\x00\\xcf\\x8d\\x03>G\\x12\\xe4=\\x13\\x14\"=rr\\x85<\\x00\\x00\\x00\\x00\\x00\\x00\\x00\\x00N\\xf7=@\\x00\\x00\\x00\\x00\\xe5JK>\\x00\\x00\\x00\\x00#\\xa0y=\\x00\\x00\\x00\\x00\\x00\\x00\\x00\\x00\\x00\\x00\\x00\\x00s\\x0e ?\\x00\\x00\\x00\\x00x\\xa4\\x1f@\\x00\\x00\\x00\\x00\\x00\\x00\\x00\\x00\\x00\\x00\\x00\\x00\\x00\\x00\\x00\\x00\\xf3\\x97;=\"\\x84;<\\x00\\x00\\x00\\x00\\xdaX\\x05>\\x00\\x00\\x00\\x00\\xe2\\xce\\xee;\\x00\\x00\\x00\\x00\\x00\\x00\\x00\\x00\\x00\\x00\\x00\\x00\\x00\\x00\\x00\\x00\\x00\\x00\\x00\\x00qi;9\\xe0\\xeeS?\\x00\\x00\\x00\\x00J\\x00J?\\x00\\x00\\x00\\x00Bb\\x04<\\xb0\\xd2\\x07>\\x00\\x00\\x00\\x00n\\xf1;>\\x00\\x00\\x00\\x00\\x00\\x00\\x00\\x00\\xe6\\x10)?\\x00\\x00\\x00\\x00 5\\xee=\\x00\\x00\\x00\\x00\\x00\\x00\\x00\\x00wU&>\\x00\\x00\\x00\\x00\\xb5\\xb6f=\\x00\\x00\\x00\\x00\\x00\\x00\\x00\\x00B\\x88^=\\x12\\x92\\xaa<\\x9b\\x07A<\\x00\\x00\\x00\\x00\\x95\\xf1 <\\x00\\x00\\x00\\x00\\x00\\x00\\x00\\x00\\x00\\x00\\x00\\x00\\x00\\x00\\x00\\x00\\xdf\\xce\\x17>\\x00\\x00\\x00\\x00\\xde\\xa2\\x96> \\x0fH=\\x00\\x00\\x00\\x00\\x00\\x00\\x00\\x00\\x00\\x00\\x00\\x00J;\\xdc;\\x90^U>\\x00\\x00\\x00\\x00\\x00\\x00\\x00\\x00\\x00\\x00\\x00\\x00P\\xbf\\x95<\\x00\\x00\\x00\\x00S\\x87o=\\x00\\x00\\x00\\x00\\x00\\x00\\x00\\x00r\\x89\\xc7<\\x00\\x00\\x00\\x00\\x00\\x00\\x00\\x00\\x0b\\xf4\\x9f=\\xe5\\xa5\\xb5=\\x00\\x00\\x00\\x00\\x00\\x00\\x00\\x00\\x00\\x00\\x00\\x00\\xb2\\xbf>?\\x00\\x00\\x00\\x00\\x01\\xd6\\xf3?\\x00\\x00\\x00\\x00\\x00\\x00\\x00\\x00\\x00\\x00\\x00\\x00ak\\x15?\\xef\\x98(=\\x00\\x00\\x00\\x00\\x00\\x00\\x00\\x00\\x00\\x00\\x00\\x00\\x1d\\xbf\\xdb=\\x00\\x00\\x00\\x00\\x00\\x00\\x00\\x00\\x00\\x00\\x00\\x00\\x9b\\x93\\xce;\\x00\\x00\\x00\\x00\\x98\\xb5\\x1e=\\x92\\x92\\x7f=\\x00\\x00\\x00\\x00\\x00\\x00\\x00\\x00\\xef\\x11Y>\\x00\\x00\\x00\\x00\\x00\\x00\\x00\\x00\\x00\\x00\\x00\\x00\\x00\\x00\\x00\\x00\\x00\\x00\\x00\\x00 \\xfa\\xc5;`@\\xaa<\\x00\\x00\\x00\\x00\\x00\\x00\\x00\\x00\\x07#U>\\x00\\x00\\x00\\x00\\xfc\\xfd\\x8a?*T\\x8d=\\x00\\x00\\x00\\x00\\x00\\x00\\x00\\x00\\x00\\x00\\x00\\x00n;o?\\xd7h]=\\x00\\x00\\x00\\x00\\x00\\x00\\x00\\x00\\x00\\x00\\x00\\x00\\xef}\\x80>\\x00\\x00\\x00\\x00gi\\xdf>\\xdf\\xef\\x7f:\\x00\\x00\\x00\\x00\\x1bq<=\\tP\\xa1?\\xe9\\r_<P\\x99\\x92>\\x00\\x00\\x00\\x003\\r\\xee=\\x00\\x00\\x00\\x00om\\xf4=\\x00\\x00\\x00\\x00\\x00\\x00\\x00\\x00\\x00\\x00\\x00\\x00\\x00\\x00\\x00\\x00\\x00\\x00\\x00\\x00\\x92B\\xf7=\\xd2\\x9d\\xc0<yq\\xe3@\\x00\\x00\\x00\\x00#\\x1b>?\\xe5\\xdb\\x90:\\xb5a^@\\xd9\\xea8<\\xe1\\x83\\x98==\\x94c;\\x00\\x00\\x00\\x00*Y\\xaa?\\x00\\x00\\x00\\x00\\x1d,Q?\\xbd\\xa4\\x02?\\x00\\x00\\x00\\x00\\x00\\x00\\x00\\x00ax\\x05=\\x00\\x00\\x00\\x00\\x00\\x00\\x00\\x00\\'gh<\\x00\\x00\\x00\\x00\\xf3\\xfb\\xde>\\xe6V\\x8d=\\x00\\xe6\\xa8=\\x00\\x00\\x00\\x00F-\\x0b?\\xc6\\x19\\xe1?\\xa6\\xe0(<\\x15t\\xa3=P\\x0eI>\\xb3\\x07\\xfb>\\x00\\x00\\x00\\x00\\xc8\\xae\\xe9=\\x00\\x00\\x00\\x00{\\x1dR<\\x00\\x00\\x00\\x00\\x00\\x00\\x00\\x00\\xea#b9\\x00\\x00\\x00\\x00\\x92\\xd2\\x8d>\\x00\\x00\\x00\\x00\\x00\\x00\\x00\\x00\\x00\\x00\\x00\\x00\\x00\\x00\\x00\\x00\\x00\\x00\\x00\\x00\\x00\\x00\\x00\\x00\\x00\\x00\\x00\\x00\\xee\\xa1\\x95=\\xd5\\x0fy>\\x00\\x00\\x00\\x00\\tA\\x9e?\\x00\\x00\\x00\\x00\\x00\\x00\\x00\\x00~\\x04W=\\xd2\\xcd\\x05>\\xb1\\xee\\xbd>IB*>\\x0e\\x03S=\\xf8$\\x85@\\xc2\\xf2H=u\\x9f\\x1e;\\x00\\x00\\x00\\x00\\x00\\x00\\x00\\x00\\x00\\x00\\x00\\x00\\xc0\\x08<>\\x00\\x00\\x00\\x00\\x00\\x00\\x00\\x00\\xd5\\x11\\x90>\\xd7\\x97?=\\xfdD\\xb3=\\xc0\\xa7\\xeb>\\x00\\x00\\x00\\x00\\x00\\x00\\x00\\x00\\x07\\xb7\\xc3>\\\\O\\x03>>\\x02\\x90?\\x00\\x00\\x00\\x00\\x00\\x00\\x00\\x00\\xf2fN>\\xbd\\x0e\\xca=\\x00\\x00\\x00\\x00\\x00\\x00\\x00\\x00\\x07*\\xcb=\\x00\\x00\\x00\\x00\\xcd\"\\xb3>\\xe5\\x14\\xa7>\\x00\\x00\\x00\\x00\\xb5\\x82\\xf8=\\xedYc=\\xf5\\xab\\x07?\\x00\\x00\\x00\\x00G;n>\\xab\\x937>\\x00\\x00\\x00\\x00[VB@\\x00\\x00\\x00\\x00\\xd0\\xca\\xea?NiI@\\x00\\x00\\x00\\x00\\xb2\\xa6G=\\x00\\x00\\x00\\x00\\x00\\x00\\x00\\x00i\\xe0v=\\xb9Cc?\\xbd\\xf4\\x02?b\\x89-?\\x079\\x88?\\x1f?M?\\x00\\x00\\x00\\x00\\x00\\x00\\x00\\x00\\xf5b\\x87?\\x90k\\x11>\\x00\\x00\\x00\\x00\\xeb\\xfe\\xb5:\\xd1\\x08,?\\x00\\x00\\x00\\x00\\x00\\x00\\x00\\x00V9\\xa1;\\x00\\x00\\x00\\x00WL\\x17@\\xf0\\xeb\\x8b@\\x00\\x00\\x00\\x00\\x8d\\xce\\x87>\\x12\\xad\\xe6:\\x00\\x00\\x00\\x00\\xb0\\x9b\\x16>'\n"
     ]
    }
   ],
   "source": [
    "lmdb_file = \"rulstm/RULSTM/data/ek55/rgb\"\n",
    "lmdb_env = lmdb.open(lmdb_file, readonly=True, lock=False, readahead=False, meminit=False)\n",
    "lmdb_txn = lmdb_env.begin()\n",
    "lmdb_cursor = lmdb_txn.cursor()\n",
    "\n",
    "for key, value in lmdb_cursor:\n",
    "    print(key)\n",
    "    print(value)\n",
    "    image_name = key.decode('utf-8')\n",
    "    image_path = \"trial.jpg\"\n",
    "    with open(image_path, 'wb') as f:\n",
    "        f.write(value)\n",
    "    break\n",
    "\n"
   ]
  },
  {
   "cell_type": "code",
   "execution_count": 7,
   "metadata": {},
   "outputs": [
    {
     "data": {
      "text/plain": [
       "95191"
      ]
     },
     "execution_count": 7,
     "metadata": {},
     "output_type": "execute_result"
    }
   ],
   "source": [
    "{'imagepath': 'https://d198wxk6eqh13s.cloudfront.net/annotation_data/b9Xw4vQyum_1711957895902.jpg', \n",
    " 'make': 'Any Make', 'model': 'Any Model', 'cq_bodystyle': 'Van', 'cq_make': None, 'cq_model': None, \n",
    " 'year': '2020', 'dealer': 'Coolblue UAT7', 'testing': True, 'imageFlip': True, 'smartRepair': False, \n",
    " 'smartBox': False, 'quoteId': 'Q-Wc9TfKkeL', 'panelColors': False, 'classifyImage': True, \n",
    " 'vehicleOCR': True, 'bumperDivide': True, 'imageCrop': True, 'extPanel': True, 'extDamage': True, \n",
    " 'hideExtPanels': True, 'changeChannel': False, 'convertLabels': True, 'merge_qpanel_wa': True, \n",
    " 'analysed_panel_tag': 'none', 'analysed_damage_tag': 'standard', 'panelCropping': False, \n",
    " 'panelName': None, 'bwReflector': False, 'multi_damages_model': False, 'blurLPAnalysed': 'none', \n",
    " 'VanPanelsDivide': True, 'ind_damages': False, 'sendCoord': False, 'maskingThreshold': '0.025', \n",
    " 'EightImagesConfig': False, 'check_orient_model': True, 'classify_clipsbroken': True, 'priority': 1, \n",
    " 'imageType': 'normal', 'selfie_check': False, 'predict_lamp_damage': False, 'tyreOCR': False, 'maskLpLogo': '', \n",
    " 'imageUrl': 'https://d198wxk6eqh13s.cloudfront.net/annotation_data/b9Xw4vQyum_1711957895902.jpg', \n",
    " 'dealerCode': 'Coolblue UAT7', 'quoteSource': 'external', 'sr_jlr_dents': False, 'blurCheck': False, \n",
    " 'dtype': 'UAT', 'regionName': 'us-east-1', 'bucketName': 'cq-dev-images', 'channelName': '#cq-alerts-uat', \n",
    " 'distributionURL': 'https://d198wxk6eqh13s.cloudfront.net/', 'imurl': 'https://d198wxk6eqh13s.cloudfront.net/annotation_data/b9Xw4vQyum_1711957895902.jpg', 'weights_type': 'detectron2', \n",
    " 'weights_type_panels': 'detectron2'}"
   ]
  },
  {
   "cell_type": "code",
   "execution_count": 11,
   "metadata": {},
   "outputs": [
    {
     "name": "stderr",
     "output_type": "stream",
     "text": [
      "[NULL @ 0x14d1fab70] PPS id out of range: 0\n",
      "[hevc @ 0x14d1fab70] PPS id out of range: 0\n",
      "[hevc @ 0x14d1fab70] PPS id out of range: 0\n",
      "[hevc @ 0x14d1fab70] PPS id out of range: 0\n",
      "[hevc @ 0x14d1fab70] PPS id out of range: 0\n",
      "[hevc @ 0x14d1fab70] PPS id out of range: 0\n",
      "[hevc @ 0x14d1fab70] PPS id out of range: 0\n",
      "[hevc @ 0x14d1fab70] PPS id out of range: 0\n",
      "[hevc @ 0x14d1fab70] PPS id out of range: 0\n",
      "[hevc @ 0x14d1fab70] PPS id out of range: 0\n",
      "[hevc @ 0x14d1fab70] PPS id out of range: 0\n",
      "[hevc @ 0x14d1fab70] PPS id out of range: 0\n",
      "[hevc @ 0x14d1fab70] PPS id out of range: 0\n",
      "[hevc @ 0x14d1fab70] PPS id out of range: 0\n",
      "[hevc @ 0x14d1fab70] PPS id out of range: 0\n",
      "[hevc @ 0x14d1fab70] PPS id out of range: 0\n",
      "[hevc @ 0x14d1fab70] PPS id out of range: 0\n",
      "[hevc @ 0x14d1fab70] PPS id out of range: 0\n",
      "[hevc @ 0x14d1fab70] PPS id out of range: 0\n",
      "[hevc @ 0x14d1fab70] PPS id out of range: 0\n",
      "[hevc @ 0x14d1fab70] PPS id out of range: 0\n",
      "[hevc @ 0x14d1fab70] PPS id out of range: 0\n",
      "[hevc @ 0x11c6cb560] Could not find ref with POC 2\n"
     ]
    },
    {
     "ename": "KeyboardInterrupt",
     "evalue": "",
     "output_type": "error",
     "traceback": [
      "\u001b[0;31m---------------------------------------------------------------------------\u001b[0m",
      "\u001b[0;31mKeyboardInterrupt\u001b[0m                         Traceback (most recent call last)",
      "Cell \u001b[0;32mIn[11], line 20\u001b[0m\n\u001b[1;32m     17\u001b[0m \u001b[39m# Read until video is completed\u001b[39;00m\n\u001b[1;32m     18\u001b[0m \u001b[39mwhile\u001b[39;00m cap\u001b[39m.\u001b[39misOpened():\n\u001b[1;32m     19\u001b[0m     \u001b[39m# Capture frame-by-frame\u001b[39;00m\n\u001b[0;32m---> 20\u001b[0m     ret, frame \u001b[39m=\u001b[39m cap\u001b[39m.\u001b[39;49mread()\n\u001b[1;32m     22\u001b[0m     frame_count \u001b[39m+\u001b[39m\u001b[39m=\u001b[39m \u001b[39m1\u001b[39m\n\u001b[1;32m     24\u001b[0m     \u001b[39mif\u001b[39;00m frame_count \u001b[39m%\u001b[39m interval \u001b[39m==\u001b[39m \u001b[39m0\u001b[39m:\n\u001b[1;32m     25\u001b[0m         \u001b[39m# Save the frame\u001b[39;00m\n",
      "\u001b[0;31mKeyboardInterrupt\u001b[0m: "
     ]
    }
   ],
   "source": [
    "\n",
    "video_path = \"april2/APRIL 02 -15.18-15.34/Camera_01_DS-7616NXI-K2(L11522008)_maruti_tc_20240403124306_front/Camera_01_DS-7616NXI-K2(L11522008)_maruti_tc_20240402151759_20240402153401_161732.mp4\"\n",
    "cap = cv2.VideoCapture(video_path)\n",
    "    \n",
    "\n",
    "# Get the frames per second (fps) of the video\n",
    "fps = cap.get(cv2.CAP_PROP_FPS)\n",
    "total_frames_to_save_per_second = 2\n",
    "\n",
    "\n",
    "frame_saved = 0\n",
    "frame_count = 0\n",
    "\n",
    "\n",
    "# Divide the FPS by the num of frames that need to be extracted per second. This will divide the total frames in a second in equal parts and download the frames at these intervals.\n",
    "interval = int(round(fps / total_frames_to_save_per_second))\n",
    "\n",
    "# Read until video is completed\n",
    "while cap.isOpened():\n",
    "    # Capture frame-by-frame\n",
    "    ret, frame = cap.read()\n",
    "    \n",
    "    frame_count += 1\n",
    "    \n",
    "    if frame_count % interval == 0:\n",
    "        # Save the frame\n",
    "        frame_saved += 1\n",
    "        #cv2.imwrite(f\"trial{c}.jpg\", frame)\n",
    "\n",
    " \n",
    "cap.release()\n",
    "\n",
    "print(\"FPS of Video: \", fps)\n",
    "print(\"Total frames: \", frame_count)\n",
    "print(\"Total frame saves: \", frame_saved)"
   ]
  },
  {
   "cell_type": "code",
   "execution_count": 8,
   "metadata": {},
   "outputs": [
    {
     "name": "stderr",
     "output_type": "stream",
     "text": [
      "[NULL @ 0x14c6b8860] PPS id out of range: 0\n",
      "[hevc @ 0x14c6b8860] PPS id out of range: 0\n",
      "[hevc @ 0x14c6b8860] PPS id out of range: 0\n",
      "[hevc @ 0x14c6b8860] PPS id out of range: 0\n",
      "[hevc @ 0x14c6b8860] PPS id out of range: 0\n",
      "[hevc @ 0x14c6b8860] PPS id out of range: 0\n",
      "[hevc @ 0x14c6b8860] PPS id out of range: 0\n",
      "[hevc @ 0x14c6b8860] PPS id out of range: 0\n",
      "[hevc @ 0x14c6b8860] PPS id out of range: 0\n",
      "[hevc @ 0x14c6b8860] PPS id out of range: 0\n",
      "[hevc @ 0x14c6b8860] PPS id out of range: 0\n",
      "[hevc @ 0x14c6b8860] PPS id out of range: 0\n",
      "[hevc @ 0x14c6b8860] PPS id out of range: 0\n",
      "[hevc @ 0x14c6b8860] PPS id out of range: 0\n",
      "[hevc @ 0x14c6b8860] PPS id out of range: 0\n",
      "[hevc @ 0x14c6b8860] PPS id out of range: 0\n",
      "[hevc @ 0x14c6b8860] PPS id out of range: 0\n",
      "[hevc @ 0x14c6b8860] PPS id out of range: 0\n",
      "[hevc @ 0x14c6b8860] PPS id out of range: 0\n",
      "[hevc @ 0x14c6b8860] PPS id out of range: 0\n",
      "[hevc @ 0x14c6b8860] PPS id out of range: 0\n",
      "[hevc @ 0x14c6b8860] PPS id out of range: 0\n"
     ]
    },
    {
     "data": {
      "text/plain": [
       "20.0"
      ]
     },
     "execution_count": 8,
     "metadata": {},
     "output_type": "execute_result"
    }
   ],
   "source": [
    "cap = cv2.VideoCapture(\"april2/APRIL 02 -15.18-15.34/Camera_01_DS-7616NXI-K2(L11522008)_maruti_tc_20240403124306_front/Camera_01_DS-7616NXI-K2(L11522008)_maruti_tc_20240402151759_20240402153401_161732.mp4\")\n",
    "\n",
    "total_frames = int(cap.get(cv2.CAP_PROP_FRAME_COUNT))\n",
    "fps = cap.get(cv2.CAP_PROP_FPS)\n",
    "total_frames\n",
    "fps"
   ]
  },
  {
   "cell_type": "code",
   "execution_count": 7,
   "metadata": {},
   "outputs": [
    {
     "data": {
      "text/plain": [
       "'4.9.0'"
      ]
     },
     "execution_count": 7,
     "metadata": {},
     "output_type": "execute_result"
    }
   ],
   "source": [
    "cv2.__version__"
   ]
  },
  {
   "cell_type": "code",
   "execution_count": 4,
   "metadata": {},
   "outputs": [
    {
     "data": {
      "text/plain": [
       "64945.7"
      ]
     },
     "execution_count": 4,
     "metadata": {},
     "output_type": "execute_result"
    }
   ],
   "source": [
    "Total frames: 1298914"
   ]
  },
  {
   "cell_type": "code",
   "execution_count": 5,
   "metadata": {},
   "outputs": [
    {
     "data": {
      "text/plain": [
       "24000"
      ]
     },
     "execution_count": 5,
     "metadata": {},
     "output_type": "execute_result"
    }
   ],
   "source": [
    "20 * 60 * 20"
   ]
  },
  {
   "cell_type": "code",
   "execution_count": 7,
   "metadata": {},
   "outputs": [
    {
     "data": {
      "text/plain": [
       "19200"
      ]
     },
     "execution_count": 7,
     "metadata": {},
     "output_type": "execute_result"
    }
   ],
   "source": [
    "16 * 60 * 20"
   ]
  },
  {
   "cell_type": "code",
   "execution_count": 8,
   "metadata": {},
   "outputs": [
    {
     "name": "stderr",
     "output_type": "stream",
     "text": [
      "[NULL @ 0x122a68b90] PPS id out of range: 0\n",
      "[hevc @ 0x122a68b90] PPS id out of range: 0\n",
      "[hevc @ 0x122a68b90] PPS id out of range: 0\n",
      "[hevc @ 0x122a68b90] PPS id out of range: 0\n",
      "[hevc @ 0x122a68b90] PPS id out of range: 0\n",
      "[hevc @ 0x122a68b90] PPS id out of range: 0\n",
      "[hevc @ 0x122a68b90] PPS id out of range: 0\n",
      "[hevc @ 0x122a68b90] PPS id out of range: 0\n",
      "[hevc @ 0x122a68b90] PPS id out of range: 0\n",
      "[hevc @ 0x122a68b90] PPS id out of range: 0\n",
      "[hevc @ 0x122a68b90] PPS id out of range: 0\n",
      "[hevc @ 0x122a68b90] PPS id out of range: 0\n",
      "[hevc @ 0x122a68b90] PPS id out of range: 0\n",
      "[hevc @ 0x122a68b90] PPS id out of range: 0\n",
      "[hevc @ 0x122a68b90] PPS id out of range: 0\n",
      "[hevc @ 0x122a68b90] PPS id out of range: 0\n",
      "[hevc @ 0x122a68b90] PPS id out of range: 0\n",
      "[hevc @ 0x122a68b90] PPS id out of range: 0\n",
      "[hevc @ 0x122a68b90] PPS id out of range: 0\n",
      "[hevc @ 0x122a68b90] PPS id out of range: 0\n",
      "[hevc @ 0x122a68b90] PPS id out of range: 0\n",
      "[hevc @ 0x122a68b90] PPS id out of range: 0\n",
      "[hevc @ 0x1228927c0] Could not find ref with POC 2\n"
     ]
    },
    {
     "data": {
      "text/plain": [
       "19251"
      ]
     },
     "execution_count": 8,
     "metadata": {},
     "output_type": "execute_result"
    }
   ],
   "source": [
    "# Reading video using imutils\n",
    "fvs = FileVideoStream(video_path).start()\n",
    "time.sleep(1.0)\n",
    "# start the FPS timer\n",
    "fps = FPS().start()\n",
    "\n",
    "frame_count = 0\n",
    "while fvs.more():\n",
    "    frame = fvs.read()\n",
    "    \n",
    "    frame_count += 1\n",
    "    \n",
    "    if frame_count < 20:\n",
    "        cv2.imwrite(f\"imgs/trial{frame_count}.jpg\", frame)\n",
    "        \n",
    "    \n",
    "    fps.update()\n",
    "    \n",
    "fvs.stop()\n",
    "\n",
    "\n",
    "frame_count"
   ]
  },
  {
   "cell_type": "code",
   "execution_count": 6,
   "metadata": {},
   "outputs": [
    {
     "name": "stderr",
     "output_type": "stream",
     "text": [
      "[NULL @ 0x122933250] PPS id out of range: 0\n",
      "[hevc @ 0x122933250] PPS id out of range: 0\n",
      "[hevc @ 0x122933250] PPS id out of range: 0\n",
      "[hevc @ 0x122933250] PPS id out of range: 0\n",
      "[hevc @ 0x122933250] PPS id out of range: 0\n",
      "[hevc @ 0x122933250] PPS id out of range: 0\n",
      "[hevc @ 0x122933250] PPS id out of range: 0\n",
      "[hevc @ 0x122933250] PPS id out of range: 0\n",
      "[hevc @ 0x122933250] PPS id out of range: 0\n",
      "[hevc @ 0x122933250] PPS id out of range: 0\n",
      "[hevc @ 0x122933250] PPS id out of range: 0\n",
      "[hevc @ 0x122933250] PPS id out of range: 0\n",
      "[hevc @ 0x122933250] PPS id out of range: 0\n",
      "[hevc @ 0x122933250] PPS id out of range: 0\n",
      "[hevc @ 0x122933250] PPS id out of range: 0\n",
      "[hevc @ 0x122933250] PPS id out of range: 0\n",
      "[hevc @ 0x122933250] PPS id out of range: 0\n",
      "[hevc @ 0x122933250] PPS id out of range: 0\n",
      "[hevc @ 0x122933250] PPS id out of range: 0\n",
      "[hevc @ 0x122933250] PPS id out of range: 0\n",
      "[hevc @ 0x122933250] PPS id out of range: 0\n",
      "[hevc @ 0x122933250] PPS id out of range: 0\n",
      "[hevc @ 0x122791620] Could not find ref with POC 2\n"
     ]
    },
    {
     "data": {
      "text/plain": [
       "19250"
      ]
     },
     "execution_count": 6,
     "metadata": {},
     "output_type": "execute_result"
    }
   ],
   "source": [
    "video_path = \"april2/APRIL 02 -15.18-15.34/Camera_01_DS-7616NXI-K2(L11522008)_maruti_tc_20240403124306_front/Camera_01_DS-7616NXI-K2(L11522008)_maruti_tc_20240402151759_20240402153401_161732.mp4\"\n",
    "\n",
    "\n",
    "\n",
    "\n"
   ]
  },
  {
   "cell_type": "code",
   "execution_count": null,
   "metadata": {},
   "outputs": [],
   "source": []
  }
 ],
 "metadata": {
  "kernelspec": {
   "display_name": "ssqs",
   "language": "python",
   "name": "python3"
  },
  "language_info": {
   "codemirror_mode": {
    "name": "ipython",
    "version": 3
   },
   "file_extension": ".py",
   "mimetype": "text/x-python",
   "name": "python",
   "nbconvert_exporter": "python",
   "pygments_lexer": "ipython3",
   "version": "3.8.10"
  },
  "orig_nbformat": 4
 },
 "nbformat": 4,
 "nbformat_minor": 2
}
